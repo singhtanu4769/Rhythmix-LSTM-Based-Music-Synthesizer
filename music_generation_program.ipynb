{
 "cells": [
  {
   "cell_type": "code",
   "execution_count": 5,
   "metadata": {},
   "outputs": [],
   "source": [
    "from music21 import *\n",
    "import keras\n",
    "from keras import backend as k\n",
    "import glob\n",
    "import numpy\n",
    "from keras.utils import np_utils \n",
    "from keras.models import Sequential\n",
    "from keras.layers import Dense, Activation,Dropout,LSTM\n",
    "from keras.optimizers import RMSprop\n",
    "import librosa"
   ]
  },
  {
   "cell_type": "code",
   "execution_count": 8,
   "metadata": {
    "scrolled": true
   },
   "outputs": [
    {
     "name": "stdout",
     "output_type": "stream",
     "text": [
      "processing song no:  0\n",
      "processing song no:  1\n",
      "processing song no:  2\n",
      "processing song no:  3\n",
      "processing song no:  4\n",
      "processing song no:  5\n",
      "processing song no:  6\n",
      "processing song no:  7\n",
      "processing song no:  8\n",
      "processing song no:  9\n",
      "processing song no:  10\n",
      "processing song no:  11\n",
      "processing song no:  12\n",
      "processing song no:  13\n",
      "processing song no:  14\n",
      "processing song no:  15\n",
      "processing song no:  16\n",
      "processing song no:  17\n",
      "processing song no:  18\n",
      "processing song no:  19\n",
      "processing song no:  20\n",
      "processing song no:  21\n",
      "processing song no:  22\n",
      "processing song no:  23\n",
      "processing song no:  24\n",
      "processing song no:  25\n",
      "processing song no:  26\n",
      "processing song no:  27\n",
      "processing song no:  28\n",
      "processing song no:  29\n",
      "processing song no:  30\n",
      "processing song no:  31\n",
      "processing song no:  32\n",
      "processing song no:  33\n",
      "processing song no:  34\n",
      "processing song no:  35\n",
      "processing song no:  36\n",
      "processing song no:  37\n",
      "processing song no:  38\n",
      "processing song no:  39\n",
      "processing song no:  40\n",
      "processing song no:  41\n",
      "processing song no:  42\n",
      "processing song no:  43\n",
      "processing song no:  44\n",
      "processing song no:  45\n",
      "processing song no:  46\n",
      "processing song no:  47\n",
      "processing song no:  48\n",
      "processing song no:  49\n",
      "processing song no:  50\n",
      "processing song no:  51\n",
      "processing song no:  52\n",
      "processing song no:  53\n",
      "processing song no:  54\n",
      "processing song no:  55\n",
      "processing song no:  56\n",
      "processing song no:  57\n",
      "processing song no:  58\n",
      "processing song no:  59\n",
      "processing song no:  60\n",
      "processing song no:  61\n",
      "processing song no:  62\n",
      "processing song no:  63\n",
      "processing song no:  64\n",
      "processing song no:  65\n",
      "processing song no:  66\n",
      "processing song no:  67\n",
      "processing song no:  68\n",
      "processing song no:  69\n",
      "processing song no:  70\n",
      "processing song no:  71\n",
      "processing song no:  72\n",
      "processing song no:  73\n",
      "processing song no:  74\n",
      "processing song no:  75\n",
      "processing song no:  76\n",
      "processing song no:  77\n",
      "processing song no:  78\n",
      "processing song no:  79\n",
      "processing song no:  80\n",
      "processing song no:  81\n",
      "processing song no:  82\n",
      "processing song no:  83\n",
      "processing song no:  84\n",
      "processing song no:  85\n",
      "processing song no:  86\n",
      "processing song no:  87\n",
      "processing song no:  88\n",
      "processing song no:  89\n",
      "processing song no:  90\n",
      "processing song no:  91\n"
     ]
    }
   ],
   "source": [
    "notes = []\n",
    "counter = 0\n",
    "for file in glob.glob(\"midi_songs/*.mid\"):\n",
    "    print('processing song no: ',counter)\n",
    "    counter = counter + 1\n",
    "    midi = converter.parse(file)\n",
    "    notes_to_parse = None\n",
    "    parts = instrument.partitionByInstrument(midi)\n",
    "    if parts: # file has instrument parts\n",
    "        notes_to_parse = parts.parts[0].recurse()\n",
    "    else: # file has notes in a flat structure\n",
    "        notes_to_parse = midi.flat.notes\n",
    "    for element in notes_to_parse:\n",
    "        if isinstance(element, note.Note):\n",
    "            notes.append(str(element.pitch))\n",
    "        elif isinstance(element, chord.Chord):\n",
    "            notes.append('.'.join(str(n) for n in element.normalOrder))"
   ]
  },
  {
   "cell_type": "code",
   "execution_count": 69,
   "metadata": {},
   "outputs": [],
   "source": [
    "sequence_length = 100\n",
    "n_vocab = len(set(notes))\n",
    "\n",
    "# get all pitch names\n",
    "pitchnames = sorted(set(item for item in notes))\n",
    "# create a dictionary to map pitches to integers\n",
    "note_to_int = dict((note, number) for number, note in enumerate(pitchnames))\n",
    "network_input = []\n",
    "network_output = []\n",
    "# create input sequences and the corresponding outputs\n",
    "for i in range(0, len(notes) - sequence_length, 1):\n",
    "    sequence_in = notes[i:i + sequence_length]\n",
    "    sequence_out = notes[i + sequence_length]\n",
    "    network_input.append([note_to_int[char] for char in sequence_in])\n",
    "    network_output.append(note_to_int[sequence_out])\n",
    "n_patterns = len(network_input)\n",
    "# reshape the input into a format compatible with LSTM layers\n",
    "network_input = numpy.reshape(network_input, (n_patterns, sequence_length, 1))\n",
    "# normalize input\n",
    "network_input = network_input / float(n_vocab) \n",
    "network_output = np_utils.to_categorical(network_output)"
   ]
  },
  {
   "cell_type": "code",
   "execution_count": 70,
   "metadata": {},
   "outputs": [],
   "source": [
    "model = Sequential()\n",
    "model.add(LSTM(\n",
    "        256,\n",
    "        input_shape=(network_input.shape[1], network_input.shape[2]),\n",
    "        return_sequences=True\n",
    "    ))\n",
    "model.add(Dropout(0.3))\n",
    "model.add(LSTM(512, return_sequences=True))\n",
    "model.add(Dropout(0.3))\n",
    "model.add(LSTM(256))\n",
    "model.add(Dense(256))\n",
    "model.add(Dropout(0.3))\n",
    "model.add(Dense(n_vocab))\n",
    "model.add(Activation('softmax'))\n",
    "model.compile(loss='categorical_crossentropy', optimizer='rmsprop')"
   ]
  },
  {
   "cell_type": "code",
   "execution_count": 77,
   "metadata": {},
   "outputs": [
    {
     "name": "stdout",
     "output_type": "stream",
     "text": [
      "_________________________________________________________________\n",
      "Layer (type)                 Output Shape              Param #   \n",
      "=================================================================\n",
      "lstm_13 (LSTM)               (None, 100, 512)          1052672   \n",
      "_________________________________________________________________\n",
      "dropout_13 (Dropout)         (None, 100, 512)          0         \n",
      "_________________________________________________________________\n",
      "lstm_14 (LSTM)               (None, 100, 512)          2099200   \n",
      "_________________________________________________________________\n",
      "dropout_14 (Dropout)         (None, 100, 512)          0         \n",
      "_________________________________________________________________\n",
      "lstm_15 (LSTM)               (None, 512)               2099200   \n",
      "_________________________________________________________________\n",
      "dense_8 (Dense)              (None, 256)               131328    \n",
      "_________________________________________________________________\n",
      "dropout_15 (Dropout)         (None, 256)               0         \n",
      "_________________________________________________________________\n",
      "dense_9 (Dense)              (None, 352)               90464     \n",
      "_________________________________________________________________\n",
      "activation_4 (Activation)    (None, 352)               0         \n",
      "=================================================================\n",
      "Total params: 5,472,864\n",
      "Trainable params: 5,472,864\n",
      "Non-trainable params: 0\n",
      "_________________________________________________________________\n"
     ]
    }
   ],
   "source": [
    "model.summary()"
   ]
  },
  {
   "cell_type": "code",
   "execution_count": 72,
   "metadata": {},
   "outputs": [
    {
     "name": "stdout",
     "output_type": "stream",
     "text": [
      "Epoch 1/200\n"
     ]
    },
    {
     "ename": "KeyboardInterrupt",
     "evalue": "",
     "output_type": "error",
     "traceback": [
      "\u001b[1;31m---------------------------------------------------------------------------\u001b[0m",
      "\u001b[1;31mKeyboardInterrupt\u001b[0m                         Traceback (most recent call last)",
      "\u001b[1;32m<ipython-input-72-34c84adebcd3>\u001b[0m in \u001b[0;36m<module>\u001b[1;34m()\u001b[0m\n\u001b[0;32m      7\u001b[0m )    \n\u001b[0;32m      8\u001b[0m \u001b[0mcallbacks_list\u001b[0m \u001b[1;33m=\u001b[0m \u001b[1;33m[\u001b[0m\u001b[0mcheckpoint\u001b[0m\u001b[1;33m]\u001b[0m\u001b[1;33m\u001b[0m\u001b[0m\n\u001b[1;32m----> 9\u001b[1;33m \u001b[0mmodel\u001b[0m\u001b[1;33m.\u001b[0m\u001b[0mfit\u001b[0m\u001b[1;33m(\u001b[0m\u001b[0mnetwork_input\u001b[0m\u001b[1;33m,\u001b[0m \u001b[0mnetwork_output\u001b[0m\u001b[1;33m,\u001b[0m \u001b[0mepochs\u001b[0m\u001b[1;33m=\u001b[0m\u001b[1;36m200\u001b[0m\u001b[1;33m,\u001b[0m \u001b[0mbatch_size\u001b[0m\u001b[1;33m=\u001b[0m\u001b[1;36m512\u001b[0m\u001b[1;33m,\u001b[0m \u001b[0mcallbacks\u001b[0m\u001b[1;33m=\u001b[0m\u001b[0mcallbacks_list\u001b[0m\u001b[1;33m)\u001b[0m\u001b[1;33m\u001b[0m\u001b[0m\n\u001b[0m",
      "\u001b[1;32m~\\Anaconda3\\envs\\tensorflow\\lib\\site-packages\\keras\\models.py\u001b[0m in \u001b[0;36mfit\u001b[1;34m(self, x, y, batch_size, epochs, verbose, callbacks, validation_split, validation_data, shuffle, class_weight, sample_weight, initial_epoch, **kwargs)\u001b[0m\n\u001b[0;32m    891\u001b[0m                               \u001b[0mclass_weight\u001b[0m\u001b[1;33m=\u001b[0m\u001b[0mclass_weight\u001b[0m\u001b[1;33m,\u001b[0m\u001b[1;33m\u001b[0m\u001b[0m\n\u001b[0;32m    892\u001b[0m                               \u001b[0msample_weight\u001b[0m\u001b[1;33m=\u001b[0m\u001b[0msample_weight\u001b[0m\u001b[1;33m,\u001b[0m\u001b[1;33m\u001b[0m\u001b[0m\n\u001b[1;32m--> 893\u001b[1;33m                               initial_epoch=initial_epoch)\n\u001b[0m\u001b[0;32m    894\u001b[0m \u001b[1;33m\u001b[0m\u001b[0m\n\u001b[0;32m    895\u001b[0m     def evaluate(self, x, y, batch_size=32, verbose=1,\n",
      "\u001b[1;32m~\\Anaconda3\\envs\\tensorflow\\lib\\site-packages\\keras\\engine\\training.py\u001b[0m in \u001b[0;36mfit\u001b[1;34m(self, x, y, batch_size, epochs, verbose, callbacks, validation_split, validation_data, shuffle, class_weight, sample_weight, initial_epoch, steps_per_epoch, validation_steps, **kwargs)\u001b[0m\n\u001b[0;32m   1629\u001b[0m                               \u001b[0minitial_epoch\u001b[0m\u001b[1;33m=\u001b[0m\u001b[0minitial_epoch\u001b[0m\u001b[1;33m,\u001b[0m\u001b[1;33m\u001b[0m\u001b[0m\n\u001b[0;32m   1630\u001b[0m                               \u001b[0msteps_per_epoch\u001b[0m\u001b[1;33m=\u001b[0m\u001b[0msteps_per_epoch\u001b[0m\u001b[1;33m,\u001b[0m\u001b[1;33m\u001b[0m\u001b[0m\n\u001b[1;32m-> 1631\u001b[1;33m                               validation_steps=validation_steps)\n\u001b[0m\u001b[0;32m   1632\u001b[0m \u001b[1;33m\u001b[0m\u001b[0m\n\u001b[0;32m   1633\u001b[0m     def evaluate(self, x=None, y=None,\n",
      "\u001b[1;32m~\\Anaconda3\\envs\\tensorflow\\lib\\site-packages\\keras\\engine\\training.py\u001b[0m in \u001b[0;36m_fit_loop\u001b[1;34m(self, f, ins, out_labels, batch_size, epochs, verbose, callbacks, val_f, val_ins, shuffle, callback_metrics, initial_epoch, steps_per_epoch, validation_steps)\u001b[0m\n\u001b[0;32m   1211\u001b[0m                     \u001b[0mbatch_logs\u001b[0m\u001b[1;33m[\u001b[0m\u001b[1;34m'size'\u001b[0m\u001b[1;33m]\u001b[0m \u001b[1;33m=\u001b[0m \u001b[0mlen\u001b[0m\u001b[1;33m(\u001b[0m\u001b[0mbatch_ids\u001b[0m\u001b[1;33m)\u001b[0m\u001b[1;33m\u001b[0m\u001b[0m\n\u001b[0;32m   1212\u001b[0m                     \u001b[0mcallbacks\u001b[0m\u001b[1;33m.\u001b[0m\u001b[0mon_batch_begin\u001b[0m\u001b[1;33m(\u001b[0m\u001b[0mbatch_index\u001b[0m\u001b[1;33m,\u001b[0m \u001b[0mbatch_logs\u001b[0m\u001b[1;33m)\u001b[0m\u001b[1;33m\u001b[0m\u001b[0m\n\u001b[1;32m-> 1213\u001b[1;33m                     \u001b[0mouts\u001b[0m \u001b[1;33m=\u001b[0m \u001b[0mf\u001b[0m\u001b[1;33m(\u001b[0m\u001b[0mins_batch\u001b[0m\u001b[1;33m)\u001b[0m\u001b[1;33m\u001b[0m\u001b[0m\n\u001b[0m\u001b[0;32m   1214\u001b[0m                     \u001b[1;32mif\u001b[0m \u001b[1;32mnot\u001b[0m \u001b[0misinstance\u001b[0m\u001b[1;33m(\u001b[0m\u001b[0mouts\u001b[0m\u001b[1;33m,\u001b[0m \u001b[0mlist\u001b[0m\u001b[1;33m)\u001b[0m\u001b[1;33m:\u001b[0m\u001b[1;33m\u001b[0m\u001b[0m\n\u001b[0;32m   1215\u001b[0m                         \u001b[0mouts\u001b[0m \u001b[1;33m=\u001b[0m \u001b[1;33m[\u001b[0m\u001b[0mouts\u001b[0m\u001b[1;33m]\u001b[0m\u001b[1;33m\u001b[0m\u001b[0m\n",
      "\u001b[1;32m~\\Anaconda3\\envs\\tensorflow\\lib\\site-packages\\keras\\backend\\tensorflow_backend.py\u001b[0m in \u001b[0;36m__call__\u001b[1;34m(self, inputs)\u001b[0m\n\u001b[0;32m   2330\u001b[0m         updated = session.run(self.outputs + [self.updates_op],\n\u001b[0;32m   2331\u001b[0m                               \u001b[0mfeed_dict\u001b[0m\u001b[1;33m=\u001b[0m\u001b[0mfeed_dict\u001b[0m\u001b[1;33m,\u001b[0m\u001b[1;33m\u001b[0m\u001b[0m\n\u001b[1;32m-> 2332\u001b[1;33m                               **self.session_kwargs)\n\u001b[0m\u001b[0;32m   2333\u001b[0m         \u001b[1;32mreturn\u001b[0m \u001b[0mupdated\u001b[0m\u001b[1;33m[\u001b[0m\u001b[1;33m:\u001b[0m\u001b[0mlen\u001b[0m\u001b[1;33m(\u001b[0m\u001b[0mself\u001b[0m\u001b[1;33m.\u001b[0m\u001b[0moutputs\u001b[0m\u001b[1;33m)\u001b[0m\u001b[1;33m]\u001b[0m\u001b[1;33m\u001b[0m\u001b[0m\n\u001b[0;32m   2334\u001b[0m \u001b[1;33m\u001b[0m\u001b[0m\n",
      "\u001b[1;32m~\\Anaconda3\\envs\\tensorflow\\lib\\site-packages\\tensorflow\\python\\client\\session.py\u001b[0m in \u001b[0;36mrun\u001b[1;34m(self, fetches, feed_dict, options, run_metadata)\u001b[0m\n\u001b[0;32m    887\u001b[0m     \u001b[1;32mtry\u001b[0m\u001b[1;33m:\u001b[0m\u001b[1;33m\u001b[0m\u001b[0m\n\u001b[0;32m    888\u001b[0m       result = self._run(None, fetches, feed_dict, options_ptr,\n\u001b[1;32m--> 889\u001b[1;33m                          run_metadata_ptr)\n\u001b[0m\u001b[0;32m    890\u001b[0m       \u001b[1;32mif\u001b[0m \u001b[0mrun_metadata\u001b[0m\u001b[1;33m:\u001b[0m\u001b[1;33m\u001b[0m\u001b[0m\n\u001b[0;32m    891\u001b[0m         \u001b[0mproto_data\u001b[0m \u001b[1;33m=\u001b[0m \u001b[0mtf_session\u001b[0m\u001b[1;33m.\u001b[0m\u001b[0mTF_GetBuffer\u001b[0m\u001b[1;33m(\u001b[0m\u001b[0mrun_metadata_ptr\u001b[0m\u001b[1;33m)\u001b[0m\u001b[1;33m\u001b[0m\u001b[0m\n",
      "\u001b[1;32m~\\Anaconda3\\envs\\tensorflow\\lib\\site-packages\\tensorflow\\python\\client\\session.py\u001b[0m in \u001b[0;36m_run\u001b[1;34m(self, handle, fetches, feed_dict, options, run_metadata)\u001b[0m\n\u001b[0;32m   1118\u001b[0m     \u001b[1;32mif\u001b[0m \u001b[0mfinal_fetches\u001b[0m \u001b[1;32mor\u001b[0m \u001b[0mfinal_targets\u001b[0m \u001b[1;32mor\u001b[0m \u001b[1;33m(\u001b[0m\u001b[0mhandle\u001b[0m \u001b[1;32mand\u001b[0m \u001b[0mfeed_dict_tensor\u001b[0m\u001b[1;33m)\u001b[0m\u001b[1;33m:\u001b[0m\u001b[1;33m\u001b[0m\u001b[0m\n\u001b[0;32m   1119\u001b[0m       results = self._do_run(handle, final_targets, final_fetches,\n\u001b[1;32m-> 1120\u001b[1;33m                              feed_dict_tensor, options, run_metadata)\n\u001b[0m\u001b[0;32m   1121\u001b[0m     \u001b[1;32melse\u001b[0m\u001b[1;33m:\u001b[0m\u001b[1;33m\u001b[0m\u001b[0m\n\u001b[0;32m   1122\u001b[0m       \u001b[0mresults\u001b[0m \u001b[1;33m=\u001b[0m \u001b[1;33m[\u001b[0m\u001b[1;33m]\u001b[0m\u001b[1;33m\u001b[0m\u001b[0m\n",
      "\u001b[1;32m~\\Anaconda3\\envs\\tensorflow\\lib\\site-packages\\tensorflow\\python\\client\\session.py\u001b[0m in \u001b[0;36m_do_run\u001b[1;34m(self, handle, target_list, fetch_list, feed_dict, options, run_metadata)\u001b[0m\n\u001b[0;32m   1315\u001b[0m     \u001b[1;32mif\u001b[0m \u001b[0mhandle\u001b[0m \u001b[1;32mis\u001b[0m \u001b[1;32mNone\u001b[0m\u001b[1;33m:\u001b[0m\u001b[1;33m\u001b[0m\u001b[0m\n\u001b[0;32m   1316\u001b[0m       return self._do_call(_run_fn, self._session, feeds, fetches, targets,\n\u001b[1;32m-> 1317\u001b[1;33m                            options, run_metadata)\n\u001b[0m\u001b[0;32m   1318\u001b[0m     \u001b[1;32melse\u001b[0m\u001b[1;33m:\u001b[0m\u001b[1;33m\u001b[0m\u001b[0m\n\u001b[0;32m   1319\u001b[0m       \u001b[1;32mreturn\u001b[0m \u001b[0mself\u001b[0m\u001b[1;33m.\u001b[0m\u001b[0m_do_call\u001b[0m\u001b[1;33m(\u001b[0m\u001b[0m_prun_fn\u001b[0m\u001b[1;33m,\u001b[0m \u001b[0mself\u001b[0m\u001b[1;33m.\u001b[0m\u001b[0m_session\u001b[0m\u001b[1;33m,\u001b[0m \u001b[0mhandle\u001b[0m\u001b[1;33m,\u001b[0m \u001b[0mfeeds\u001b[0m\u001b[1;33m,\u001b[0m \u001b[0mfetches\u001b[0m\u001b[1;33m)\u001b[0m\u001b[1;33m\u001b[0m\u001b[0m\n",
      "\u001b[1;32m~\\Anaconda3\\envs\\tensorflow\\lib\\site-packages\\tensorflow\\python\\client\\session.py\u001b[0m in \u001b[0;36m_do_call\u001b[1;34m(self, fn, *args)\u001b[0m\n\u001b[0;32m   1321\u001b[0m   \u001b[1;32mdef\u001b[0m \u001b[0m_do_call\u001b[0m\u001b[1;33m(\u001b[0m\u001b[0mself\u001b[0m\u001b[1;33m,\u001b[0m \u001b[0mfn\u001b[0m\u001b[1;33m,\u001b[0m \u001b[1;33m*\u001b[0m\u001b[0margs\u001b[0m\u001b[1;33m)\u001b[0m\u001b[1;33m:\u001b[0m\u001b[1;33m\u001b[0m\u001b[0m\n\u001b[0;32m   1322\u001b[0m     \u001b[1;32mtry\u001b[0m\u001b[1;33m:\u001b[0m\u001b[1;33m\u001b[0m\u001b[0m\n\u001b[1;32m-> 1323\u001b[1;33m       \u001b[1;32mreturn\u001b[0m \u001b[0mfn\u001b[0m\u001b[1;33m(\u001b[0m\u001b[1;33m*\u001b[0m\u001b[0margs\u001b[0m\u001b[1;33m)\u001b[0m\u001b[1;33m\u001b[0m\u001b[0m\n\u001b[0m\u001b[0;32m   1324\u001b[0m     \u001b[1;32mexcept\u001b[0m \u001b[0merrors\u001b[0m\u001b[1;33m.\u001b[0m\u001b[0mOpError\u001b[0m \u001b[1;32mas\u001b[0m \u001b[0me\u001b[0m\u001b[1;33m:\u001b[0m\u001b[1;33m\u001b[0m\u001b[0m\n\u001b[0;32m   1325\u001b[0m       \u001b[0mmessage\u001b[0m \u001b[1;33m=\u001b[0m \u001b[0mcompat\u001b[0m\u001b[1;33m.\u001b[0m\u001b[0mas_text\u001b[0m\u001b[1;33m(\u001b[0m\u001b[0me\u001b[0m\u001b[1;33m.\u001b[0m\u001b[0mmessage\u001b[0m\u001b[1;33m)\u001b[0m\u001b[1;33m\u001b[0m\u001b[0m\n",
      "\u001b[1;32m~\\Anaconda3\\envs\\tensorflow\\lib\\site-packages\\tensorflow\\python\\client\\session.py\u001b[0m in \u001b[0;36m_run_fn\u001b[1;34m(session, feed_dict, fetch_list, target_list, options, run_metadata)\u001b[0m\n\u001b[0;32m   1300\u001b[0m           return tf_session.TF_Run(session, options,\n\u001b[0;32m   1301\u001b[0m                                    \u001b[0mfeed_dict\u001b[0m\u001b[1;33m,\u001b[0m \u001b[0mfetch_list\u001b[0m\u001b[1;33m,\u001b[0m \u001b[0mtarget_list\u001b[0m\u001b[1;33m,\u001b[0m\u001b[1;33m\u001b[0m\u001b[0m\n\u001b[1;32m-> 1302\u001b[1;33m                                    status, run_metadata)\n\u001b[0m\u001b[0;32m   1303\u001b[0m \u001b[1;33m\u001b[0m\u001b[0m\n\u001b[0;32m   1304\u001b[0m     \u001b[1;32mdef\u001b[0m \u001b[0m_prun_fn\u001b[0m\u001b[1;33m(\u001b[0m\u001b[0msession\u001b[0m\u001b[1;33m,\u001b[0m \u001b[0mhandle\u001b[0m\u001b[1;33m,\u001b[0m \u001b[0mfeed_dict\u001b[0m\u001b[1;33m,\u001b[0m \u001b[0mfetch_list\u001b[0m\u001b[1;33m)\u001b[0m\u001b[1;33m:\u001b[0m\u001b[1;33m\u001b[0m\u001b[0m\n",
      "\u001b[1;31mKeyboardInterrupt\u001b[0m: "
     ]
    }
   ],
   "source": [
    "filepath = \"weights-improvement-{epoch:02d}-{loss:.4f}-bigger.hdf5\"    \n",
    "checkpoint = keras.callbacks.ModelCheckpoint(\n",
    "    filepath, monitor='loss', \n",
    "    verbose=0,        \n",
    "    save_best_only=True,        \n",
    "    mode='min'\n",
    ")    \n",
    "callbacks_list = [checkpoint]     \n",
    "model.fit(network_input, network_output, epochs=200, batch_size=512, callbacks=callbacks_list)"
   ]
  },
  {
   "cell_type": "code",
   "execution_count": 80,
   "metadata": {},
   "outputs": [],
   "source": [
    "# now we will generate the music\n",
    "model = Sequential()\n",
    "model.add(LSTM(\n",
    "    512,\n",
    "    input_shape=(network_input.shape[1], network_input.shape[2]),\n",
    "    return_sequences=True\n",
    "))\n",
    "model.add(Dropout(0.3))\n",
    "model.add(LSTM(512, return_sequences=True))\n",
    "model.add(Dropout(0.3))\n",
    "model.add(LSTM(512))\n",
    "model.add(Dense(256))\n",
    "model.add(Dropout(0.3))\n",
    "model.add(Dense(n_vocab))\n",
    "model.add(Activation('softmax'))\n",
    "model.compile(loss='categorical_crossentropy', optimizer='rmsprop')\n",
    "# Load the weights to each node\n",
    "model.load_weights('weights.hdf5')"
   ]
  },
  {
   "cell_type": "code",
   "execution_count": 121,
   "metadata": {},
   "outputs": [],
   "source": [
    "start = numpy.random.randint(0, len(network_input)-1)\n",
    "int_to_note = dict((number, note) for number, note in enumerate(pitchnames))\n",
    "pattern = network_input[start]\n",
    "\n",
    "prediction_output = []\n",
    "# generate 500 notes\n",
    "for note_index in range(500):\n",
    "    prediction_input = numpy.reshape(pattern, (1, len(pattern), 1))\n",
    "    prediction_input = prediction_input / float(n_vocab)\n",
    "    prediction = model.predict(prediction_input, verbose=0)\n",
    "    index = numpy.argmax(prediction)\n",
    "    result = int_to_note[index]\n",
    "    prediction_output.append(result)\n",
    "    ind =numpy.asarray([index])\n",
    "    pattern = numpy.append(pattern, ind)\n",
    "    pattern = pattern[1:len(pattern)]"
   ]
  },
  {
   "cell_type": "code",
   "execution_count": 122,
   "metadata": {},
   "outputs": [],
   "source": [
    "offset = 0\n",
    "output_notes = []\n",
    "# create note and chord objects based on the values generated by the model\n",
    "for pattern in prediction_output:\n",
    "    # pattern is a chord\n",
    "    if ('.' in pattern) or pattern.isdigit():\n",
    "        notes_in_chord = pattern.split('.')\n",
    "        notes = []\n",
    "        for current_note in notes_in_chord:\n",
    "            new_note = note.Note(int(current_note))\n",
    "            new_note.storedInstrument = instrument.Piano()\n",
    "            notes.append(new_note)\n",
    "        new_chord = chord.Chord(notes)\n",
    "        new_chord.offset = offset\n",
    "        output_notes.append(new_chord)\n",
    "    # pattern is a note\n",
    "    else:\n",
    "        new_note = note.Note(pattern)\n",
    "        new_note.offset = offset\n",
    "        new_note.storedInstrument = instrument.Piano()\n",
    "        output_notes.append(new_note)\n",
    "    # increase offset each iteration so that notes do not stack\n",
    "    offset += 0.5"
   ]
  },
  {
   "cell_type": "code",
   "execution_count": 125,
   "metadata": {},
   "outputs": [
    {
     "data": {
      "text/plain": [
       "'test_output.mid'"
      ]
     },
     "execution_count": 125,
     "metadata": {},
     "output_type": "execute_result"
    }
   ],
   "source": [
    "midi_stream = stream.Stream(output_notes)\n",
    "midi_stream.write('midi', fp='test_output.mid')"
   ]
  },
  {
   "cell_type": "code",
   "execution_count": 8,
   "metadata": {},
   "outputs": [
    {
     "data": {
      "text/html": [
       "\n",
       "                <div id='midiPlayerDiv6428'></div>\n",
       "                <link rel=\"stylesheet\" href=\"http://artusi.xyz/music21j/css/m21.css\"\n",
       "                    type=\"text/css\" />\n",
       "                <script>\n",
       "                require.config({\n",
       "                    paths: {'music21': 'http://artusi.xyz/music21j/src/music21'}\n",
       "                });\n",
       "                require(['music21'], function() {\n",
       "                               mp = new music21.miditools.MidiPlayer();\n",
       "                               mp.addPlayer('#midiPlayerDiv6428');\n",
       "                               mp.base64Load('data:audio/midi;base64,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');\n",
       "                        });\n",
       "                </script>"
      ],
      "text/plain": [
       "<IPython.core.display.HTML object>"
      ]
     },
     "metadata": {},
     "output_type": "display_data"
    }
   ],
   "source": [
    "# playing the file\n",
    "mf = midi.MidiFile()\n",
    "mf.open('test_output.mid')\n",
    "mf.read()\n",
    "mf.close()\n",
    "s = midi.translate.midiFileToStream(mf)\n",
    "s.show('midi')"
   ]
  },
  {
   "cell_type": "code",
   "execution_count": null,
   "metadata": {},
   "outputs": [],
   "source": []
  }
 ],
 "metadata": {
  "kernelspec": {
   "display_name": "Python 3",
   "language": "python",
   "name": "python3"
  },
  "language_info": {
   "codemirror_mode": {
    "name": "ipython",
    "version": 3
   },
   "file_extension": ".py",
   "mimetype": "text/x-python",
   "name": "python",
   "nbconvert_exporter": "python",
   "pygments_lexer": "ipython3",
   "version": "3.5.4"
  }
 },
 "nbformat": 4,
 "nbformat_minor": 2
}
